{
 "cells": [
  {
   "cell_type": "code",
   "execution_count": 5,
   "id": "43a3c90a-7881-4691-80d8-937783f2c4d6",
   "metadata": {},
   "outputs": [
    {
     "data": {
      "text/plain": [
       "\"\\n\\nAim: To build a multifidelity ML model to predict high-resolution gridded\\n\\tsurface temperature climate simulation out from contemporaneous \\n\\tcoarse-resolution climate simulation output\\n\\nhi  = high fidelity data\\nlo  = low fidelity data\\n\\nt2m  = temperature at 2 meters above the ground\\nu10, v10 = wind components (eastward, northward) at 10m above the ground\\n\\nlat = latitude\\nlon = longitude\\n\\n\\n\\n### Regional gridded output from a Regional Climate Model (RCM)\\nhi_t2   = xr.open_dataset('data/hifid_t2m_monthly.nc').t2m\\nhi_lats = hi_t2.lat.values\\nhi_lons = hi_t2.lon.values \\n\\n### Global gridded reanalysis (data assimilated) used to update/force the \\n### lateral boundaries of the RCM\\nlo_t2  = xr.open_dataset('data/lofid_t2m_monthly.nc').t2m\\nlo_u10 = xr.open_dataset('data/lofid_u10_monthly.nc').u10\\nlo_v10 = xr.open_dataset('data/lofid_v10_monthly.nc').v10\\n\\n### work with numpy arrays\\nhi_t2_arr  = hi_t2.values\\nlo_t2_arr  = lo_t2.values \\nlo_u10_arr = lo_u10.values\\nlo_v10_arr = lo_v10.values\\ntime_dim   = lo_t2.time.values \\n\\n\""
      ]
     },
     "execution_count": 5,
     "metadata": {},
     "output_type": "execute_result"
    }
   ],
   "source": [
    "import xarray as xr\n",
    "import iris\n",
    "'''\n",
    "\n",
    "Aim: To build a multifidelity ML model to predict high-resolution gridded\n",
    "\tsurface temperature climate simulation out from contemporaneous \n",
    "\tcoarse-resolution climate simulation output\n",
    "\n",
    "hi  = high fidelity data\n",
    "lo  = low fidelity data\n",
    "\n",
    "t2m  = temperature at 2 meters above the ground\n",
    "u10, v10 = wind components (eastward, northward) at 10m above the ground\n",
    "\n",
    "lat = latitude\n",
    "lon = longitude\n",
    "\n",
    "'''\n",
    "\n",
    "### Regional gridded output from a Regional Climate Model (RCM)\n",
    "hi_t2   = xr.open_dataset('data/hifid_t2m_monthly.nc').t2m\n",
    "hi_lats = hi_t2.lat.values\n",
    "hi_lons = hi_t2.lon.values \n",
    "\n",
    "### Global gridded reanalysis (data assimilated) used to update/force the \n",
    "### lateral boundaries of the RCM\n",
    "lo_t2  = xr.open_dataset('data/lofid_t2m_monthly.nc').t2m\n",
    "lo_u10 = xr.open_dataset('data/lofid_u10_monthly.nc').u10\n",
    "lo_v10 = xr.open_dataset('data/lofid_v10_monthly.nc').v10\n",
    "\n",
    "### work with numpy arrays\n",
    "hi_t2_arr  = hi_t2.values\n",
    "lo_t2_arr  = lo_t2.values \n",
    "lo_u10_arr = lo_u10.values\n",
    "lo_v10_arr = lo_v10.values\n",
    "time_dim   = lo_t2.time.values \n",
    "\n"
   ]
  },
  {
   "cell_type": "code",
   "execution_count": 6,
   "id": "09755c80-a339-44c4-a4f1-a2a806429bdd",
   "metadata": {},
   "outputs": [],
   "source": [
    "cube = iris.load('hifid_t2m_monthly.nc')"
   ]
  },
  {
   "cell_type": "code",
   "execution_count": null,
   "id": "2b05c935-ffc5-4ff1-8da6-96f9da9dad65",
   "metadata": {},
   "outputs": [],
   "source": []
  }
 ],
 "metadata": {
  "kernelspec": {
   "display_name": "Python 3 (ipykernel)",
   "language": "python",
   "name": "python3"
  },
  "language_info": {
   "codemirror_mode": {
    "name": "ipython",
    "version": 3
   },
   "file_extension": ".py",
   "mimetype": "text/x-python",
   "name": "python",
   "nbconvert_exporter": "python",
   "pygments_lexer": "ipython3",
   "version": "3.7.13"
  }
 },
 "nbformat": 4,
 "nbformat_minor": 5
}
